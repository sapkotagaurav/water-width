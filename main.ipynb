{
 "cells": [
  {
   "cell_type": "code",
   "execution_count": 2,
   "metadata": {},
   "outputs": [
    {
     "ename": "ModuleNotFoundError",
     "evalue": "No module named 'rasterio'",
     "output_type": "error",
     "traceback": [
      "\u001b[0;31m---------------------------------------------------------------------------\u001b[0m",
      "\u001b[0;31mModuleNotFoundError\u001b[0m                       Traceback (most recent call last)",
      "Cell \u001b[0;32mIn[2], line 1\u001b[0m\n\u001b[0;32m----> 1\u001b[0m \u001b[38;5;28;01mimport\u001b[39;00m \u001b[38;5;21;01mrasterio\u001b[39;00m\n\u001b[1;32m      2\u001b[0m \u001b[38;5;28;01mfrom\u001b[39;00m \u001b[38;5;21;01mrasterio\u001b[39;00m\u001b[38;5;21;01m.\u001b[39;00m\u001b[38;5;21;01mplot\u001b[39;00m \u001b[38;5;28;01mimport\u001b[39;00m show\n\u001b[1;32m      3\u001b[0m \u001b[38;5;28;01mimport\u001b[39;00m \u001b[38;5;21;01mnumpy\u001b[39;00m \u001b[38;5;28;01mas\u001b[39;00m \u001b[38;5;21;01mnp\u001b[39;00m\n",
      "\u001b[0;31mModuleNotFoundError\u001b[0m: No module named 'rasterio'"
     ]
    }
   ],
   "source": [
    "import rasterio\n",
    "from rasterio.plot import show\n",
    "import numpy as np\n",
    "from skimage.filters import threshold_otsu\n",
    "\n",
    "def extract_water_bodies(image_path, water_threshold=0.1):\n",
    "    # Open the satellite image\n",
    "    with rasterio.open(image_path) as src:\n",
    "        # Read the image bands\n",
    "        red = src.read(3)\n",
    "        green = src.read(2)\n",
    "        blue = src.read(1)\n",
    "\n",
    "    # Convert bands to float and normalize\n",
    "    red = red.astype('float32') / 255\n",
    "    green = green.astype('float32') / 255\n",
    "    blue = blue.astype('float32') / 255\n",
    "\n",
    "    # Calculate NDWI (Normalized Difference Water Index)\n",
    "    ndwi = (green - red) / (green + red)\n",
    "\n",
    "    # Apply thresholding to extract water bodies\n",
    "    water_mask = ndwi > water_threshold\n",
    "\n",
    "    return water_mask\n",
    "\n",
    "# Specify the path to the satellite image\n",
    "image_path = \"/Users/gaurabsapkota/Downloads/Water Bodies Dataset/Images/water_body_19.jpg\"\n",
    "\n",
    "# Extract water bodies from the image\n",
    "water_bodies = extract_water_bodies(image_path)\n",
    "\n",
    "# Save the water bodies mask as a new image\n",
    "with rasterio.open(image_path) as src:\n",
    "    profile = src.profile\n",
    "    profile.update(dtype=rasterio.uint8, count=1)\n",
    "\n",
    "    with rasterio.open(\"water_bodies_mask.tif\", 'w', **profile) as dst:\n",
    "        dst.write(water_bodies.astype(rasterio.uint8), 1)\n",
    "\n",
    "# Display the water bodies mask\n",
    "show(water_bodies, cmap='viridis')\n"
   ]
  },
  {
   "cell_type": "markdown",
   "metadata": {},
   "source": []
  },
  {
   "cell_type": "code",
   "execution_count": null,
   "metadata": {},
   "outputs": [],
   "source": [
    "import rasterio\n",
    "import numpy as np\n",
    "\n",
    "# Step 1: Open the satellite image\n",
    "with rasterio.open('satellite_image.tif') as src:\n",
    "    # Step 2: Read the satellite image\n",
    "    img = src.read()\n",
    "    # Step 3: Extract metadata\n",
    "    crs = src.crs\n",
    "    transform = src.transform\n",
    "    height = src.height\n",
    "    width = src.width\n",
    "    extent = src.bounds\n",
    "    \n",
    "    # Step 4: Define mask criteria\n",
    "    # For example, to create a mask for all pixels with a certain range of NDVI values:\n",
    "    # NDVI (Normalized Difference Vegetation Index) calculation:\n",
    "    # ndvi = (band4 - band3) / (band4 + band3)\n",
    "    # Assuming band4 is NIR (Near Infrared) and band3 is Red\n",
    "    band4 = img[3]  # Assuming band 4 is NIR\n",
    "    band3 = img[2]  # Assuming band 3 is Red\n",
    "    ndvi = (band4 - band3) / (band4 + band3)\n",
    "    \n",
    "    # Define the threshold for NDVI to create the mask\n",
    "    ndvi_threshold = 0.5\n",
    "    mask = np.where(ndvi > ndvi_threshold, 1, 0)  # Create binary mask\n",
    "    \n",
    "    # Step 5: Create the mask\n",
    "    \n",
    "    # Step 6: Write the mask to a new file\n",
    "    # Set metadata for the new raster file\n",
    "    meta = src.meta.copy()\n",
    "    meta.update(dtype=rasterio.uint8, count=1)  # Update metadata for single-band mask\n",
    "    \n",
    "    # Write the mask to a new raster file\n",
    "    with rasterio.open('mask.tif', 'w', **meta) as dst:\n",
    "        dst.write(mask.astype(rasterio.uint8), 1)\n"
   ]
  }
 ],
 "metadata": {
  "kernelspec": {
   "display_name": "Python 3",
   "language": "python",
   "name": "python3"
  },
  "language_info": {
   "codemirror_mode": {
    "name": "ipython",
    "version": 3
   },
   "file_extension": ".py",
   "mimetype": "text/x-python",
   "name": "python",
   "nbconvert_exporter": "python",
   "pygments_lexer": "ipython3",
   "version": "3.12.3"
  }
 },
 "nbformat": 4,
 "nbformat_minor": 2
}
